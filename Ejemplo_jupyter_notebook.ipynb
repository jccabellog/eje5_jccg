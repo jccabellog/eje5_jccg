{
 "cells": [
  {
   "cell_type": "markdown",
   "metadata": {},
   "source": [
    "##Ejercicio 5 de Boot Camp Python 3, Awakelab, grupo 4\n",
    "------------------------\n",
    "Ejercicio de preparación y entrega de sandwiches, trabajando con listas, ciclos y condicionales."
   ]
  },
  {
   "cell_type": "code",
   "execution_count": 1,
   "metadata": {},
   "outputs": [
    {
     "name": "stdout",
     "output_type": "stream",
     "text": [
      "Su sandwich de  Ave palta  ya está preparado, favor esperar. \n",
      "\n",
      "Su sandwich de  Barros Luco  ya está preparado, favor esperar. \n",
      "\n",
      "Su sandwich de  Atún mayo  ya está preparado, favor esperar. \n",
      "\n",
      "Su sandwich de  Chacarero  ya está preparado, favor esperar. \n",
      "\n",
      "Su sandwich de  Lomito italiano  ya está preparado, favor esperar. \n",
      "\n",
      "Su sandwich de  Ave palta  ya está preparado, favor esperar. \n",
      "\n",
      "Su sandwich de  Choclo queso  ya está preparado, favor esperar. \n",
      "\n",
      "Su sandwich de  Atún mayo  ya está preparado, favor esperar. \n",
      "\n",
      "Su sandwich de  Chacarero  ya está preparado, favor esperar. \n",
      "\n",
      "Su sandwich de  Lomito italiano  ya está preparado, favor esperar. \n",
      "\n",
      "Su sandwich de  Ave palta  ya está preparado, favor esperar. \n",
      "\n",
      "Su sandwich de  Barros Luco  ya está preparado, favor esperar. \n",
      "\n",
      "Su sandwich de  Atún mayo  ya está preparado, favor esperar. \n",
      "\n",
      "Su sandwich de  Chacarero  ya está preparado, favor esperar. \n",
      "\n"
     ]
    },
    {
     "ename": "KeyboardInterrupt",
     "evalue": "",
     "output_type": "error",
     "traceback": [
      "\u001b[1;31m---------------------------------------------------------------------------\u001b[0m",
      "\u001b[1;31mKeyboardInterrupt\u001b[0m                         Traceback (most recent call last)",
      "\u001b[1;32m<ipython-input-1-cddc0f795a10>\u001b[0m in \u001b[0;36m<module>\u001b[1;34m\u001b[0m\n\u001b[0;32m     16\u001b[0m         \u001b[0mprint\u001b[0m\u001b[1;33m(\u001b[0m\u001b[1;34m\"Su sandwich de \"\u001b[0m\u001b[1;33m,\u001b[0m\u001b[0mi\u001b[0m\u001b[1;33m,\u001b[0m \u001b[1;34m\" ya está preparado, favor esperar. \\n\"\u001b[0m\u001b[1;33m)\u001b[0m\u001b[1;33m\u001b[0m\u001b[1;33m\u001b[0m\u001b[0m\n\u001b[0;32m     17\u001b[0m         \u001b[0mtiempo_espera\u001b[0m \u001b[1;33m=\u001b[0m \u001b[0mrandom\u001b[0m\u001b[1;33m.\u001b[0m\u001b[0mrandint\u001b[0m\u001b[1;33m(\u001b[0m\u001b[1;36m1\u001b[0m\u001b[1;33m,\u001b[0m\u001b[1;36m2\u001b[0m\u001b[1;33m)\u001b[0m\u001b[1;33m\u001b[0m\u001b[1;33m\u001b[0m\u001b[0m\n\u001b[1;32m---> 18\u001b[1;33m         \u001b[0mtime\u001b[0m\u001b[1;33m.\u001b[0m\u001b[0msleep\u001b[0m\u001b[1;33m(\u001b[0m\u001b[0mtiempo_espera\u001b[0m\u001b[1;33m)\u001b[0m\u001b[1;33m\u001b[0m\u001b[1;33m\u001b[0m\u001b[0m\n\u001b[0m\u001b[0;32m     19\u001b[0m         \u001b[0msandwiches_terminados\u001b[0m\u001b[1;33m.\u001b[0m\u001b[0mappend\u001b[0m\u001b[1;33m(\u001b[0m\u001b[0mi\u001b[0m\u001b[1;33m)\u001b[0m\u001b[1;33m\u001b[0m\u001b[1;33m\u001b[0m\u001b[0m\n\u001b[0;32m     20\u001b[0m         \u001b[0mcont\u001b[0m \u001b[1;33m=\u001b[0m \u001b[0mcont\u001b[0m\u001b[1;33m+\u001b[0m\u001b[1;36m1\u001b[0m\u001b[1;33m\u001b[0m\u001b[1;33m\u001b[0m\u001b[0m\n",
      "\u001b[1;31mKeyboardInterrupt\u001b[0m: "
     ]
    }
   ],
   "source": [
    "import time\n",
    "import random\n",
    "cont_bl=0\n",
    "ordenes_de_sandwiches = [\n",
    "    ['Ave palta','Barros Luco','Atún mayo','Chacarero','Lomito italiano'],['Ave palta','Choclo queso','Atún mayo','Chacarero','Lomito italiano'],['Ave palta','Barros Luco','Atún mayo','Chacarero','Lomito italiano'],\n",
    "    ['Ave palta','Barros Luco','Atún mayo','Chacarero','Lomito italiano'],['Ave palta','Barros Luco','Atún mayo','Chacarero','Lomito italiano'],['Ave palta','Barros Luco','Atún mayo','Chacarero','Lomito italiano'],\n",
    "    ['Ave palta','Barros Luco','Atún mayo','Chacarero','Lomito italiano'],['Ave palta','Choclo queso','Atún mayo','Chacarero','Lomito italiano'],['Ave palta','Barros Luco','Atún mayo','Chacarero','Lomito italiano'],\n",
    "    ['Ave palta','Barros Luco','Atún mayo','Chacarero','Lomito italiano'],['Ave palta','Barros Luco','Atún mayo','Chacarero','Lomito italiano'],['Ave palta','Barros Luco','Atún mayo','Chacarero','Lomito italiano'],\n",
    "    ['Ave palta','Barros Luco','Atún mayo','Chacarero','Lomito italiano'],['Ave palta','Choclo queso','Atún mayo','Chacarero','Lomito italiano'],['Ave palta','Barros Luco','Atún mayo','Chacarero','Lomito italiano'],\n",
    "    ['Ave palta','Barros Luco','Atún mayo','Chacarero','Lomito italiano'],['Ave palta','Barros Luco','Atún mayo','Chacarero','Lomito italiano'],['Ave palta','Barros Luco','Atún mayo','Chacarero','Lomito italiano'],\n",
    "    ['Ave palta','Barros Luco','Atún mayo','Chacarero','Lomito italiano'],['Ave palta','Choclo queso','Atún mayo','Chacarero','Lomito italiano']]\n",
    "sandwiches_terminados =[]\n",
    "cont=0\n",
    "for n in range(0,len(ordenes_de_sandwiches)):   \n",
    "    for i in ordenes_de_sandwiches[n]:\n",
    "        print(\"Su sandwich de \",i, \" ya está preparado, favor esperar. \\n\")\n",
    "        tiempo_espera = random.randint(1,2)\n",
    "        time.sleep(tiempo_espera)\n",
    "        sandwiches_terminados.append(i)\n",
    "        cont = cont+1\n",
    "#print (cont)\n",
    "for a in range(0,len(sandwiches_terminados)):\n",
    "    print(a+1,\"Sandwich \",sandwiches_terminados[a], \" preparado.\\n\")  \n",
    "\n",
    "#___________________________________________________________________________\n",
    "\n",
    "#verificar cantidad de Barros Luco y elliminarlos de la lista inicial\n",
    "\n",
    "cont_bl =0\n",
    "for n in range(0,len(ordenes_de_sandwiches)):   \n",
    "    for i in ordenes_de_sandwiches[n]:\n",
    "        if i == 'Barros Luco':\n",
    "            cont_bl =cont_bl+1\n",
    "\n",
    "if cont_bl>3:\n",
    "    j=0\n",
    "    print(\"Nos quedamos sin Barros Luco :( \\n\")\n",
    "b=0\n",
    "while b < len(ordenes_de_sandwiches):\n",
    "    for i in ordenes_de_sandwiches[b]:\n",
    "        if i == 'Barros Luco':\n",
    "            ordenes_de_sandwiches[b].remove(i)     \n",
    "    #print(ordenes_de_sandwiches)  \n",
    "    b+=1 \n",
    "ordenes2 = ordenes_de_sandwiches\n",
    "terminados =[]\n",
    "for n in range(0,len(ordenes2)):   \n",
    "    for i in ordenes2[n]:\n",
    "        terminados.append(i)\n",
    "print (\"Barros Luco : \",cont_bl)\n",
    "print(\"lista final de pedidos, con Barros Luco sin preparar: \\n\",terminados)"
   ]
  },
  {
   "cell_type": "code",
   "execution_count": null,
   "metadata": {},
   "outputs": [],
   "source": []
  },
  {
   "cell_type": "code",
   "execution_count": null,
   "metadata": {},
   "outputs": [],
   "source": []
  }
 ],
 "metadata": {
  "kernelspec": {
   "display_name": "Python 3",
   "language": "python",
   "name": "python3"
  },
  "language_info": {
   "codemirror_mode": {
    "name": "ipython",
    "version": 3
   },
   "file_extension": ".py",
   "mimetype": "text/x-python",
   "name": "python",
   "nbconvert_exporter": "python",
   "pygments_lexer": "ipython3",
   "version": "3.8.5"
  }
 },
 "nbformat": 4,
 "nbformat_minor": 4
}
